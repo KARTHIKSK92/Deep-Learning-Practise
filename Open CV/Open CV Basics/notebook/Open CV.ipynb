{
 "cells": [
  {
   "cell_type": "code",
   "execution_count": 2,
   "metadata": {},
   "outputs": [],
   "source": [
    "import cv2\n",
    "import numpy as np"
   ]
  },
  {
   "cell_type": "code",
   "execution_count": 29,
   "metadata": {},
   "outputs": [],
   "source": [
    "#imread is the function to read the images. It takes the path of the image present in the disk\n",
    "img = cv2.imread('../data set/3143130.jpg')"
   ]
  },
  {
   "cell_type": "code",
   "execution_count": 30,
   "metadata": {},
   "outputs": [],
   "source": [
    "# imshow is the function to display the image. It takes 2 arguements\n",
    "# first arguements is the name of the outputwindow\n",
    "# second argument is the image which needs to be displayed\n",
    "cv2.imshow(\"output1\",img)\n",
    "\n",
    "# if we dont add the add, it closes very quick. if we add a parameter 0 it means infinte time \n",
    "cv2.waitKey(0)\n",
    "cv2.destroyAllWindows()"
   ]
  },
  {
   "cell_type": "code",
   "execution_count": 31,
   "metadata": {},
   "outputs": [],
   "source": [
    "# Videocapture is the function to read the videos from the disk\n",
    "cap = cv2.VideoCapture('../data set/AundhBridge.mp4')"
   ]
  },
  {
   "cell_type": "code",
   "execution_count": 32,
   "metadata": {},
   "outputs": [],
   "source": [
    "# since video is series of frames we need to display the video using the while loop\n",
    "while True:\n",
    "    # here we are reading the video frame by frame. each frame is stored in img\n",
    "    # sucess is boolean flag which tells whether the image is sucessfully read or not\n",
    "    success, img2 = cap.read()\n",
    "    # here we display the single frame which is stores in the variable img\n",
    "    # video is the window name\n",
    "    cv2.imshow('video',img2)\n",
    "    # here if the delay is one milli second and q key is pressed then we stop the\n",
    "    # window and close the video\n",
    "    if cv2.waitKey(1) & 0xFF == ord('q'):\n",
    "        cv2.destroyAllWindows()\n",
    "        break\n",
    "    "
   ]
  },
  {
   "cell_type": "code",
   "execution_count": 33,
   "metadata": {},
   "outputs": [
    {
     "data": {
      "text/plain": [
       "True"
      ]
     },
     "execution_count": 33,
     "metadata": {},
     "output_type": "execute_result"
    }
   ],
   "source": [
    "# now we read the video from the webcam. \n",
    "# the id of the webcam needs to send as a parameter \n",
    "# if we send 0 the default web cam will be read from \n",
    "cap1 = cv2.VideoCapture(0)\n",
    "\n",
    "# we can the set the height and width of the video\n",
    "# 3 is the id to set the width\n",
    "# 4 is the id to set the height\n",
    "# 10 is the id to set the brightness\n",
    "cap1.set(3,640)\n",
    "cap1.set(4,480)\n",
    "cap1.set(10, 100)"
   ]
  },
  {
   "cell_type": "code",
   "execution_count": 34,
   "metadata": {},
   "outputs": [],
   "source": [
    "# since video is series of frames we need to display the video using the while loop\n",
    "while True:\n",
    "    # here we are reading the video frame by frame. each frame is stored in img\n",
    "    # sucess is boolean flag which tells whether the image is sucessfully read or not\n",
    "    success, img1 = cap1.read()\n",
    "    # here we display the single frame which is stores in the variable img\n",
    "    # video is the window name\n",
    "    cv2.imshow('video',img1)\n",
    "    # here if the delay is one milli second and q key is pressed then we stop the\n",
    "    # window and close the video\n",
    "    if cv2.waitKey(1) & 0xFF == ord('q'):\n",
    "        cv2.destroyAllWindows()\n",
    "        break\n",
    "    "
   ]
  },
  {
   "cell_type": "markdown",
   "metadata": {},
   "source": [
    "# HOW TO CONVERT IMAGE TO GRAY SCALE "
   ]
  },
  {
   "cell_type": "code",
   "execution_count": 37,
   "metadata": {},
   "outputs": [],
   "source": [
    "#  now we will work with the images basic function\n",
    "# here we are converting the image to grey scale image\n",
    "# cvtColor convert the image into respective colour space\n",
    "# in opencv the color is in BGR format \n",
    "# to convert to gray we need to use cv2.COLOR_BAYER_BGR2GREY color space\n",
    "imgGray = cv2.cvtColor(img, cv2.COLOR_BGR2GRAY)\n",
    "cv2.imshow('Color',img)\n",
    "cv2.imshow('Gray Image',imgGray)\n",
    "cv2.waitKey(0)\n",
    "cv2.destroyAllWindows()"
   ]
  },
  {
   "cell_type": "markdown",
   "metadata": {},
   "source": [
    "#  HOW TO BLUR THE IMAGE "
   ]
  },
  {
   "cell_type": "code",
   "execution_count": 38,
   "metadata": {},
   "outputs": [],
   "source": [
    "# here we will use the gausscian blur image to blur our image \n",
    "# GaussianBlur is the function used\n",
    "# it takes 3 paramters\n",
    "# first one is the image\n",
    "# second is the kernel size perferable a odd number size of matrix\n",
    "# third is the sigmaX value\n",
    "imageBlur = cv2.GaussianBlur(imgGray, (7,7),0)\n",
    "cv2.imshow('Blur Image',imageBlur)\n",
    "cv2.imshow('Color',img)\n",
    "cv2.imshow('Gray Image',imgGray)\n",
    "cv2.waitKey(0)\n",
    "cv2.destroyAllWindows()"
   ]
  },
  {
   "cell_type": "markdown",
   "metadata": {},
   "source": [
    "# HOW TO DETECT THE EDGES USING KANNY EDGE DETECTOR "
   ]
  },
  {
   "cell_type": "code",
   "execution_count": 39,
   "metadata": {},
   "outputs": [],
   "source": [
    "# here we will be using kanny edge detection\n",
    "# it takes 3 parameters\n",
    "# first parameter is the image\n",
    "# second parameter is the threshold1\n",
    "# third paramter is the threshhold\n",
    "imgCanny = cv2.Canny(img, 150, 200)\n",
    "\n",
    "cv2.imshow('Blur Image',imageBlur)\n",
    "cv2.imshow('Color',img)\n",
    "cv2.imshow('Gray Image',imgGray)\n",
    "cv2.imshow('Canny Image',imgCanny)\n",
    "cv2.waitKey(0)\n",
    "cv2.destroyAllWindows()"
   ]
  },
  {
   "cell_type": "markdown",
   "metadata": {},
   "source": [
    "# Dilation"
   ]
  },
  {
   "cell_type": "code",
   "execution_count": 40,
   "metadata": {},
   "outputs": [],
   "source": [
    "# now while detecting the edges the lines are not complete. \n",
    "# to complete those lines we have the concept of dilation( it also increases the \n",
    "#thicknes of the line)\n",
    "# dilate function does the dilation process which takes 3 paramters\n",
    "# the first paramter is images. here we are talking about the images edges hence \n",
    "# second paramter is the kernel matrix \n",
    "# third paramter is the number of iterations. i.e., the thickness of the edges\n",
    "kernel = np.ones((5,5), np.uint8)\n",
    "imgDilation = cv2.dilate(imgCanny,kernel, iterations =1)\n",
    "\n",
    "cv2.imshow('Blur Image',imageBlur)\n",
    "cv2.imshow('Color',img)\n",
    "cv2.imshow('Gray Image',imgGray)\n",
    "cv2.imshow('Canny Image',imgCanny)\n",
    "cv2.imshow('Dilation Image',imgDilation)\n",
    "cv2.waitKey(0)\n",
    "cv2.destroyAllWindows()"
   ]
  },
  {
   "cell_type": "markdown",
   "metadata": {},
   "source": [
    "# Erosion (the opposite of dilation)"
   ]
  },
  {
   "cell_type": "code",
   "execution_count": 41,
   "metadata": {},
   "outputs": [],
   "source": [
    "# erode function does the erosion process which takes 3 paramters\n",
    "# the first paramter is images. here we are talking about the images edges hence \n",
    "# second paramter is the kernel matrix \n",
    "# third paramter is the number of iterations. i.e., the thickness of the edges\n",
    "imgEroded = cv2.erode(imgDilation, kernel, iterations =1)\n",
    "\n",
    "cv2.imshow('Blur Image',imageBlur)\n",
    "cv2.imshow('Color',img)\n",
    "cv2.imshow('Gray Image',imgGray)\n",
    "cv2.imshow('Canny Image',imgCanny)\n",
    "cv2.imshow('Dilation Image',imgDilation)\n",
    "cv2.imshow('Eroded Image',imgEroded)\n",
    "cv2.waitKey(0)\n",
    "cv2.destroyAllWindows()"
   ]
  },
  {
   "cell_type": "markdown",
   "metadata": {},
   "source": [
    "# We will look about resizing and cropping of the images "
   ]
  },
  {
   "cell_type": "code",
   "execution_count": 42,
   "metadata": {},
   "outputs": [
    {
     "name": "stdout",
     "output_type": "stream",
     "text": [
      "(373, 636, 3)\n"
     ]
    }
   ],
   "source": [
    "# for resizing of the image first we need to know about the shape of the image \n",
    "print(img.shape)\n",
    "\n",
    "# here 373 is the height and 636 is the width of the image and 3 is 3 channels"
   ]
  },
  {
   "cell_type": "code",
   "execution_count": 46,
   "metadata": {},
   "outputs": [
    {
     "name": "stdout",
     "output_type": "stream",
     "text": [
      "(150, 300, 3)\n"
     ]
    }
   ],
   "source": [
    "# now we will resize the image \n",
    "# resize is the function which takes 2 paramets\n",
    "# first paramter is the image \n",
    "# second is the new size (width, height)\n",
    "imgResize = cv2.resize(img, (300, 150))\n",
    "print(imgResize.shape)\n",
    "cv2.imshow(\"output1\",img)\n",
    "cv2.imshow(\"Re sized Image\",imgResize)\n",
    "\n",
    "cv2.waitKey(0)\n",
    "cv2.destroyAllWindows()"
   ]
  },
  {
   "cell_type": "markdown",
   "metadata": {},
   "source": [
    "\n",
    "# Cropping of the image "
   ]
  },
  {
   "cell_type": "code",
   "execution_count": 45,
   "metadata": {},
   "outputs": [],
   "source": [
    "# for cropping an image we can use the simple matrix calculations \n",
    "# the first would be the height and second would be the width\n",
    "imgCropped = img[0:200,200:500]\n",
    "cv2.imshow(\"output1\",img)\n",
    "cv2.imshow(\"Cropped Image\",imgCropped)\n",
    "\n",
    "cv2.waitKey(0)\n",
    "cv2.destroyAllWindows()"
   ]
  },
  {
   "cell_type": "markdown",
   "metadata": {},
   "source": [
    "# Shapes and Texts"
   ]
  },
  {
   "cell_type": "code",
   "execution_count": 77,
   "metadata": {},
   "outputs": [
    {
     "name": "stdout",
     "output_type": "stream",
     "text": [
      "(512, 512, 3)\n"
     ]
    }
   ],
   "source": [
    "# here we will try to draw lines triangles rectangles and circle on the image \n",
    "# also learn how to put text on images\n",
    "# first we will create a matrix with zeros using numpy. zero means black. One means white\n",
    "# here 3 is the channels\n",
    "imgblack = np.zeros((512,512,3), np.uint8)\n",
    "cv2.imshow(\"Image1\",imgblack)\n",
    "cv2.waitKey(0)\n",
    "cv2.destroyAllWindows()\n",
    "print(imgblack.shape)"
   ]
  },
  {
   "cell_type": "code",
   "execution_count": 78,
   "metadata": {},
   "outputs": [],
   "source": [
    "# now we will look how can we color this image\n",
    "# here we are completely colouring the image. We have coloured the whole image with blue\n",
    "# colon here refers to all values in the matrix\n",
    "imgblack[:] = 255,0,0\n",
    "cv2.imshow(\"Image2\",imgblack)\n",
    "cv2.waitKey(0)\n",
    "cv2.destroyAllWindows()"
   ]
  },
  {
   "cell_type": "code",
   "execution_count": 79,
   "metadata": {},
   "outputs": [
    {
     "name": "stdout",
     "output_type": "stream",
     "text": [
      "[[[255   0   0]\n",
      "  [255   0   0]\n",
      "  [255   0   0]\n",
      "  ...\n",
      "  [255   0   0]\n",
      "  [255   0   0]\n",
      "  [255   0   0]]\n",
      "\n",
      " [[255   0   0]\n",
      "  [255   0   0]\n",
      "  [255   0   0]\n",
      "  ...\n",
      "  [255   0   0]\n",
      "  [255   0   0]\n",
      "  [255   0   0]]\n",
      "\n",
      " [[255   0   0]\n",
      "  [255   0   0]\n",
      "  [255   0   0]\n",
      "  ...\n",
      "  [255   0   0]\n",
      "  [255   0   0]\n",
      "  [255   0   0]]\n",
      "\n",
      " ...\n",
      "\n",
      " [[255   0   0]\n",
      "  [255   0   0]\n",
      "  [255   0   0]\n",
      "  ...\n",
      "  [255   0   0]\n",
      "  [255   0   0]\n",
      "  [255   0   0]]\n",
      "\n",
      " [[255   0   0]\n",
      "  [255   0   0]\n",
      "  [255   0   0]\n",
      "  ...\n",
      "  [255   0   0]\n",
      "  [255   0   0]\n",
      "  [255   0   0]]\n",
      "\n",
      " [[255   0   0]\n",
      "  [255   0   0]\n",
      "  [255   0   0]\n",
      "  ...\n",
      "  [255   0   0]\n",
      "  [255   0   0]\n",
      "  [255   0   0]]]\n"
     ]
    }
   ],
   "source": [
    "# now we will look how can we color this image\n",
    "# here we are  colouring part the image. We have coloured the whole image with blue\n",
    "# colon here refers to all values in the matrix\n",
    "imgblack[200:300,100:300] = 0,255,0\n",
    "print(imgblack)\n",
    "cv2.imshow(\"Image3\",imgblack)\n",
    "cv2.waitKey(0)\n",
    "cv2.destroyAllWindows()"
   ]
  },
  {
   "cell_type": "code",
   "execution_count": 80,
   "metadata": {},
   "outputs": [],
   "source": [
    "# lets now learn about how to draw lines on the images\n",
    "# line function takes  5 paramters\n",
    "# first parmater is the image\n",
    "# second paramter is the starting point\n",
    "# third parameter is the ending point\n",
    "# fourth paramter is the colour of the line\n",
    "# fifth paramter is the thickness os the line\n",
    "cv2.line(imgblack, (0,0), (300,300), (0,0,255), 3)\n",
    "cv2.imshow(\"Image4\",imgblack)\n",
    "cv2.waitKey(0)\n",
    "cv2.destroyAllWindows()"
   ]
  },
  {
   "cell_type": "code",
   "execution_count": 81,
   "metadata": {},
   "outputs": [],
   "source": [
    "# lets now learn about how to draw rectangles on the images\n",
    "# rectangle function takes 5 paramters\n",
    "# first parmater is the image \n",
    "# second paramter is the starting point (diagnol starting point)\n",
    "# third parameter is the ending point (diagnol ending point)\n",
    "# fourth paramter is the colour of the line\n",
    "# fifth paramter is the thickness os the line\n",
    "cv2.rectangle(imgblack, (0,0), (250,350), (100,125,255), 3)\n",
    "cv2.imshow(\"Image5\",imgblack)\n",
    "cv2.waitKey(0)\n",
    "cv2.destroyAllWindows()"
   ]
  },
  {
   "cell_type": "code",
   "execution_count": 82,
   "metadata": {},
   "outputs": [],
   "source": [
    "# lets now learn about how to draw rectangles and fill the rectangle on the images\n",
    "# rectangle function takes 5 paramters\n",
    "# first parmater is the image \n",
    "# second paramter is the starting point (diagnol starting point)\n",
    "# third parameter is the ending point (diagnol ending point)\n",
    "# fourth paramter is the colour of the line\n",
    "# fifth paramter is the parameter to say to be filled\n",
    "cv2.rectangle(imgblack, (0,0), (250,350), (100,125,255), cv2.FILLED)\n",
    "cv2.imshow(\"Image6\",imgblack)\n",
    "cv2.waitKey(0)\n",
    "cv2.destroyAllWindows()"
   ]
  },
  {
   "cell_type": "code",
   "execution_count": 83,
   "metadata": {},
   "outputs": [],
   "source": [
    "# lets now learn about how to draw circles on the images\n",
    "# circle function takes 5 paramters\n",
    "# first parmater is the image \n",
    "# second paramter is the center of the circle\n",
    "# third parameter is the radius of the circle\n",
    "# fourth paramter is the colour of the line\n",
    "# fifth paramter is the thickness\n",
    "cv2.circle(imgblack, (400,50), 30, (55,75,255), 5)\n",
    "cv2.imshow(\"Image7\",imgblack)\n",
    "cv2.waitKey(0)\n",
    "cv2.destroyAllWindows()"
   ]
  },
  {
   "cell_type": "code",
   "execution_count": 84,
   "metadata": {},
   "outputs": [],
   "source": [
    "# now we will learn how to put the text on the image \n",
    "# putText takes \n",
    "# first parmater is the image\n",
    "# second paramter what text we should be displaying\n",
    "# third paramter is the origin of the text\n",
    "# fourth paramter is the font \n",
    "# fifth paramter is the scale\n",
    "# sixth paramter is the color \n",
    "# seventh paramter is the thickness of the text\n",
    "cv2.putText(imgblack, 'Hello OpenCV', (100,100), cv2.FONT_HERSHEY_COMPLEX,1,(0,150,0,2))\n",
    "cv2.imshow(\"Image8\",imgblack)\n",
    "cv2.waitKey(0)\n",
    "cv2.destroyAllWindows()"
   ]
  },
  {
   "cell_type": "markdown",
   "metadata": {},
   "source": [
    "# WRAP PRESPECTIVE"
   ]
  },
  {
   "cell_type": "code",
   "execution_count": 11,
   "metadata": {},
   "outputs": [],
   "source": [
    "# now we learning about the wrap prespective of an image \n",
    "# we will try to get the single image of cards. we need the four points of the image \n",
    "# in the four points we are going to apply the wrap prespective\n",
    "\n",
    "width,height = 250,350\n",
    "img123 = cv2.imread('../data set/cards.jpg')\n",
    "# four corner points of the image  \n",
    "pts1 = np.float32([[529,142],[771,190],[405,395],[674,457]])\n",
    "# now for each point we need mention which corner are we refering to \n",
    "pts2 = np.float32([[0,0],[width,0],[0,height],[width, height]])\n",
    "\n",
    "# now we write the tranformation matrix using getPrespectiveTranform\n",
    "# 2 paramters the points \n",
    "matrix = cv2.getPerspectiveTransform(pts1, pts2)\n",
    "\n",
    "imgoutput = cv2.warpPerspective(img123, matrix, (width, height))\n",
    "cv2.imshow(\"Image9\",img123)\n",
    "cv2.imshow(\"Image10\",imgoutput)\n",
    "cv2.waitKey(0)\n",
    "cv2.destroyAllWindows()"
   ]
  },
  {
   "cell_type": "markdown",
   "metadata": {},
   "source": [
    "# JOINING IMAGES"
   ]
  },
  {
   "cell_type": "code",
   "execution_count": 12,
   "metadata": {},
   "outputs": [],
   "source": [
    "# we will now try to stack the images vertical and horizonal using numpy \n",
    "# this can be achived if we have the same shape and same channel\n",
    "\n",
    "img111 = cv2.imread('../data set/3143130.jpg')\n",
    "\n",
    "imghor = np.hstack((img111,img111))\n",
    "imgver = np.vstack((img111, img111))\n",
    "\n",
    "cv2.imshow(\"Image11\",imghor)\n",
    "cv2.imshow(\"Image12\",imgver)\n",
    "cv2.waitKey(0)\n",
    "cv2.destroyAllWindows()"
   ]
  },
  {
   "cell_type": "code",
   "execution_count": 16,
   "metadata": {},
   "outputs": [],
   "source": [
    "# now we write a custom function to stack the images \n",
    "\n",
    "def stackImages(scale,imgArray):\n",
    "    rows = len(imgArray)\n",
    "    cols = len(imgArray[0])\n",
    "    rowsAvailable = isinstance(imgArray[0], list)\n",
    "    width = imgArray[0][0].shape[1]\n",
    "    height = imgArray[0][0].shape[0]\n",
    "    if rowsAvailable:\n",
    "        for x in range ( 0, rows):\n",
    "            for y in range(0, cols):\n",
    "                if imgArray[x][y].shape[:2] == imgArray[0][0].shape [:2]:\n",
    "                    imgArray[x][y] = cv2.resize(imgArray[x][y], (0, 0), None, scale, scale)\n",
    "                else:\n",
    "                    imgArray[x][y] = cv2.resize(imgArray[x][y], (imgArray[0][0].shape[1], imgArray[0][0].shape[0]), None, scale, scale)\n",
    "                if len(imgArray[x][y].shape) == 2: imgArray[x][y]= cv2.cvtColor( imgArray[x][y], cv2.COLOR_GRAY2BGR)\n",
    "        imageBlank = np.zeros((height, width, 3), np.uint8)\n",
    "        hor = [imageBlank]*rows\n",
    "        hor_con = [imageBlank]*rows\n",
    "        for x in range(0, rows):\n",
    "            hor[x] = np.hstack(imgArray[x])\n",
    "        ver = np.vstack(hor)\n",
    "    else:\n",
    "        for x in range(0, rows):\n",
    "            if imgArray[x].shape[:2] == imgArray[0].shape[:2]:\n",
    "                imgArray[x] = cv2.resize(imgArray[x], (0, 0), None, scale, scale)\n",
    "            else:\n",
    "                imgArray[x] = cv2.resize(imgArray[x], (imgArray[0].shape[1], imgArray[0].shape[0]), None,scale, scale)\n",
    "            if len(imgArray[x].shape) == 2: imgArray[x] = cv2.cvtColor(imgArray[x], cv2.COLOR_GRAY2BGR)\n",
    "        hor= np.hstack(imgArray)\n",
    "        ver = hor\n",
    "    return ver\n",
    "\n",
    "img11 = cv2.imread('../data set/3143130.jpg')\n",
    "img121 = cv2.cvtColor(img11, cv2.COLOR_BGR2GRAY)\n",
    "\n",
    "imgstack = stackImages(0.75,([img11, img121, img11],[img121, img11, img121]))\n",
    "cv2.imshow(\"Image13\",imgstack)\n",
    "cv2.waitKey(0)\n",
    "cv2.destroyAllWindows()"
   ]
  },
  {
   "cell_type": "markdown",
   "metadata": {},
   "source": [
    "# COLOR DETECTION"
   ]
  },
  {
   "cell_type": "code",
   "execution_count": null,
   "metadata": {},
   "outputs": [],
   "source": []
  }
 ],
 "metadata": {
  "kernelspec": {
   "display_name": "Python 3",
   "language": "python",
   "name": "python3"
  },
  "language_info": {
   "codemirror_mode": {
    "name": "ipython",
    "version": 3
   },
   "file_extension": ".py",
   "mimetype": "text/x-python",
   "name": "python",
   "nbconvert_exporter": "python",
   "pygments_lexer": "ipython3",
   "version": "3.6.5"
  }
 },
 "nbformat": 4,
 "nbformat_minor": 2
}
